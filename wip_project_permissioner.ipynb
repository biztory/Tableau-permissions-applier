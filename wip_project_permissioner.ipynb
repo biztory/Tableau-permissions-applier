{
 "cells": [
  {
   "cell_type": "markdown",
   "metadata": {},
   "source": [
    "# iPython notebook to recursively apply permissions to Projects\n",
    "## Importing libraries"
   ]
  },
  {
   "cell_type": "code",
   "execution_count": null,
   "metadata": {},
   "outputs": [],
   "source": [
    "import os, argparse, keyring, re, configparser, warnings, urllib, requests, webbrowser\n",
    "from datetime import time, datetime\n",
    "from getpass import getpass\n",
    "from pathlib import Path\n",
    "warnings.filterwarnings('ignore')\n",
    "config = configparser.ConfigParser()\n",
    "config.read(r\".\\project_permissions.cfg\")"
   ]
  },
  {
   "cell_type": "markdown",
   "metadata": {},
   "source": [
    "## Functions\n",
    "### Fn to check errors"
   ]
  },
  {
   "cell_type": "code",
   "execution_count": null,
   "metadata": {},
   "outputs": [],
   "source": [
    "def check_error(request, task):\n",
    "    if task == \"sign_in\":\n",
    "        if request.status_code == 200:\n",
    "            print(\"\\t\\tUser signed in successfully!\")\n",
    "            return 1\n",
    "        elif request.status_code == 404:\n",
    "            print(\"\\t\\tERROR: User not found!!\")\n",
    "            return 0\n",
    "        elif request.status_code == 401:\n",
    "            print(\"\\t\\tERROR: Login error!!\")\n",
    "            return 0\n",
    "        else:\n",
    "            print(\"\\t\\tERROR: Request error check again!!\")\n",
    "            return 0\n",
    "        \n",
    "    elif task == \"sign_out\":\n",
    "        if request.status_code == 204:\n",
    "            print(\"\\t\\tUser signed out successfully!\")\n",
    "            return 1\n",
    "        else:\n",
    "            print(\"\\t\\tERROR: Request error check again!!\")\n",
    "            return 0\n",
    "        \n",
    "    elif task == \"create_users\":\n",
    "        if request.status_code == 201:\n",
    "            print(\"\\t\\tUser created successfully!\")\n",
    "            return 1\n",
    "        elif request.status_code == 404:\n",
    "            print(\"\\t\\tERROR: Site not found!!\")\n",
    "            return 0\n",
    "        elif request.status_code == 409:\n",
    "            print(\"\\t\\tERROR: User exists or license unavailable, check again!!\")\n",
    "            return 0\n",
    "        elif request.status_code == 400:\n",
    "            print(\"\\t\\tERROR: Invalid site role or bad request!!\")\n",
    "            return 0\n",
    "        else:\n",
    "            print(\"\\t\\tERROR: Request error check again!!\")\n",
    "            return 0\n",
    "        \n",
    "    elif task == \"update_users\":\n",
    "        if request.status_code == 200:\n",
    "            print(\"\\t\\tUser information updated successfully!\")\n",
    "            return 1\n",
    "        elif request.status_code == 404:\n",
    "            print(\"\\t\\tERROR: User or Site not found!!\")\n",
    "            return 0\n",
    "        elif request.status_code == 409:\n",
    "            print(\"\\t\\tERROR: User exists or license unavailable, check again!!\")\n",
    "            return 0\n",
    "        elif request.status_code == 400:\n",
    "            print(\"\\t\\tERROR: Invalid site role, email address or bad request!!\")\n",
    "            return 0\n",
    "        elif request.status_code == 403:\n",
    "            print(\"\\t\\tERROR: Licensing update on self or guest account not allowed!!\")\n",
    "            return 0\n",
    "        else:\n",
    "            print(\"\\t\\tERROR: Request error check again!!\")\n",
    "            return 0\n",
    "        \n",
    "    elif task == \"find_group_id\":\n",
    "        if request.status_code == 200:\n",
    "            print(\"\\t\\tGroup found!\")\n",
    "            return 1\n",
    "        elif request.status_code == 404:\n",
    "            print(\"\\t\\tERROR: Site not found!!\")\n",
    "            return 0\n",
    "        else:\n",
    "            print(\"\\t\\tERROR: Request error check again!!\")\n",
    "            return 0\n",
    "        \n",
    "    elif task == \"add_user_group\":\n",
    "        if request.status_code == 200:\n",
    "            print(\"\\t\\tUser added to group successfully!\")\n",
    "            return 1\n",
    "        elif request.status_code == 404:\n",
    "            print(\"\\t\\tERROR: Site or Group not found!!\")\n",
    "            return 0\n",
    "        elif request.status_code == 409:\n",
    "            print(\"\\t\\tERROR: Specified User already in group!!\")\n",
    "            return 0\n",
    "        else:\n",
    "            print(\"\\t\\tERROR: Request error check again!!\")\n",
    "            return 0\n",
    "    \n",
    "    elif task == \"query_projects\":\n",
    "        if request.status_code == 200:\n",
    "            print(\"\\t\\tProject found!\")\n",
    "            return 1\n",
    "        elif request.status_code == 400:\n",
    "            print(\"\\t\\tERROR: Pagination error!!\")\n",
    "            return 0\n",
    "        elif request.status_code == 403:\n",
    "            print(\"\\t\\tERROR: Page not found!!\")\n",
    "            return 0\n",
    "        elif request.status_code == 404:\n",
    "            print(\"\\t\\tERROR: Site not found!!\")\n",
    "            return 0\n",
    "        else:\n",
    "            print(\"\\t\\tERROR: Request error check again!!\")\n",
    "            return 0\n"
   ]
  },
  {
   "cell_type": "markdown",
   "metadata": {},
   "source": [
    "### Fn to sign in to Server"
   ]
  },
  {
   "cell_type": "code",
   "execution_count": null,
   "metadata": {},
   "outputs": [],
   "source": [
    "def sign_in(username, password, site=\"\"):\n",
    "    body = {\n",
    "        \"credentials\": {\n",
    "            \"name\": username,\n",
    "            \"password\": password,\n",
    "            \"site\": {\n",
    "                \"contentUrl\": site\n",
    "            }\n",
    "        }\n",
    "    }\n",
    "    response = requests.post(\n",
    "        URL + '/auth/signin', \n",
    "        json=body, \n",
    "        verify=False, \n",
    "        headers={'Accept': 'application/json'}\n",
    "    )\n",
    "    \n",
    "    status = check_error(response, \"sign_in\")\n",
    "    if status:\n",
    "        return response.json()['credentials']['site']['id'], response.json()['credentials']['token']\n",
    "    else:\n",
    "        return 0,0"
   ]
  },
  {
   "cell_type": "markdown",
   "metadata": {},
   "source": [
    "### Fn to sign out from Server"
   ]
  },
  {
   "cell_type": "code",
   "execution_count": null,
   "metadata": {},
   "outputs": [],
   "source": [
    "def sign_out(site_id, token):\n",
    "    response = requests.post(\n",
    "        URL + '/auth/signout', \n",
    "        verify=False, \n",
    "        headers={'Accept': 'application/json',\n",
    "                'X-Tableau-Auth': token}\n",
    "    )\n",
    "    status = check_error(response, \"sign_out\")\n",
    "    return status"
   ]
  },
  {
   "cell_type": "markdown",
   "metadata": {},
   "source": [
    "### Fn to find project ids"
   ]
  },
  {
   "cell_type": "code",
   "execution_count": null,
   "metadata": {},
   "outputs": [],
   "source": [
    "def query_projects(site_id, token, project_names):\n",
    "    projects = []\n",
    "    if len(project_names) > 0:\n",
    "        for project in project_names:\n",
    "            response = requests.get(\n",
    "                URL + '/sites/{}/projects?filter=name:eq:{}'.format(site_id, urllib.parse.quote_plus(project)), \n",
    "                verify=False, \n",
    "                headers={'Accept': 'application/json',\n",
    "                        'X-Tableau-Auth': token}\n",
    "            )\n",
    "            status = check_error(response, \"query_projects\")\n",
    "            temp = {response.json()['projects']['project'][0]['name']:response.json()['projects']['project'][0]['id']}\n",
    "            projects.append(temp)\n",
    "    else:\n",
    "        response = requests.get(\n",
    "            URL + '/sites/{}/projects'.format(site_id), \n",
    "            verify=False, \n",
    "            headers={'Accept': 'application/json',\n",
    "                    'X-Tableau-Auth': token}\n",
    "        )\n",
    "        status = check_error(response, \"query_projects\")\n",
    "        page_size = int(response.json()['pagination']['pageSize'])\n",
    "        items_available = int(response.json()['pagination']['totalAvailable'])\n",
    "        if items_available%page_size > 0:\n",
    "            num_pages = int(items_available/page_size) + 1\n",
    "        else:\n",
    "            num_pages = int(items_available/page_size)\n",
    "        for page_num in range(num_pages):\n",
    "            response = requests.get(\n",
    "                URL + '/sites/{}/projects?pageSize={}&pageNumber={}'.format(site_id, page_size, int(page_num)+1), \n",
    "                headers={'Accept': 'application/json',\n",
    "                        'X-Tableau-Auth': token}\n",
    "            ).json()\n",
    "            project_names = response['projects']['project']\n",
    "            for project in project_names:\n",
    "                temp = {project['name']:project['id']}\n",
    "                projects.append(temp)\n",
    "    return projects"
   ]
  },
  {
   "cell_type": "markdown",
   "metadata": {},
   "source": [
    "### Fn to apply Project specific permissions"
   ]
  },
  {
   "cell_type": "code",
   "execution_count": null,
   "metadata": {},
   "outputs": [],
   "source": [
    "def apply_project_permissions(site_id, token, user, capabilities):\n",
    "     project_permissions_body = {\n",
    "        \"permissions\": {\n",
    "            \"granteeCapabilities\": {\n",
    "                \"user\" : {\n",
    "                    \"id\" : user\n",
    "                }\n",
    "                \"capabilities\" : {\n",
    "                    \n",
    "                }\n",
    "            } user_name,\n",
    "            \"siteRole\": site_role\n",
    "        }\n",
    "    }"
   ]
  },
  {
   "cell_type": "code",
   "execution_count": null,
   "metadata": {},
   "outputs": [],
   "source": []
  },
  {
   "cell_type": "code",
   "execution_count": null,
   "metadata": {},
   "outputs": [],
   "source": []
  },
  {
   "cell_type": "code",
   "execution_count": null,
   "metadata": {},
   "outputs": [],
   "source": []
  },
  {
   "cell_type": "markdown",
   "metadata": {},
   "source": [
    "## Variables"
   ]
  },
  {
   "cell_type": "code",
   "execution_count": null,
   "metadata": {},
   "outputs": [],
   "source": [
    "server = config[\"server_connection\"][\"server\"] # Enter site in format tableau.company.com without the https before it\n",
    "site_content_url = config[\"server_connection\"][\"site\"] # This can be found from the URL of the content and if using the Default site then this will be blank\n",
    "api_ver = config[\"server_connection\"][\"api\"] # This can be found from the Tableau Server REST API reference\n",
    "username = \"pnl0dv6z\" # This is your username\n",
    "\n",
    "URL = \"https://{}/api/{}\".format(server, api_ver)"
   ]
  },
  {
   "cell_type": "markdown",
   "metadata": {},
   "source": [
    "## Open Log file"
   ]
  },
  {
   "cell_type": "code",
   "execution_count": null,
   "metadata": {},
   "outputs": [],
   "source": [
    "log_file_loc = r\"{}\\{}\".format(str(Path.home()), config[\"logging_details\"][\"logfilename\"])\n",
    "log_file = open(log_file_loc, \"a+\")"
   ]
  },
  {
   "cell_type": "markdown",
   "metadata": {},
   "source": [
    "## Sign in to the Tableau Server"
   ]
  },
  {
   "cell_type": "code",
   "execution_count": null,
   "metadata": {},
   "outputs": [],
   "source": [
    "password = getpass(\"Enter your password for the Tableau Server: \")\n",
    "site_id, token = sign_in(username, password, site_content_url)\n",
    "if token == 0:\n",
    "    exit()"
   ]
  },
  {
   "cell_type": "code",
   "execution_count": null,
   "metadata": {},
   "outputs": [],
   "source": [
    "test = query_projects(site_id, token, [])"
   ]
  },
  {
   "cell_type": "code",
   "execution_count": null,
   "metadata": {},
   "outputs": [],
   "source": [
    "print(len(test))"
   ]
  },
  {
   "cell_type": "code",
   "execution_count": null,
   "metadata": {},
   "outputs": [],
   "source": [
    "response = requests.get(\n",
    "    URL + '/sites/{}/projects?pageSize=100&pageNumber=5'.format(site_id), \n",
    "    headers={'Accept': 'application/json',\n",
    "            'X-Tableau-Auth': token}\n",
    ").json()\n",
    "print(response)"
   ]
  },
  {
   "cell_type": "code",
   "execution_count": null,
   "metadata": {},
   "outputs": [],
   "source": [
    "n = 100\n",
    "d = 100\n",
    "print(n%d)"
   ]
  },
  {
   "cell_type": "code",
   "execution_count": null,
   "metadata": {},
   "outputs": [],
   "source": [
    "print(test)"
   ]
  },
  {
   "cell_type": "code",
   "execution_count": null,
   "metadata": {},
   "outputs": [],
   "source": [
    "urllib.parse.quote_plus('analytics_service')"
   ]
  },
  {
   "cell_type": "code",
   "execution_count": null,
   "metadata": {},
   "outputs": [],
   "source": [
    "test_dict = {'write':'allow', 'read':'allow'}"
   ]
  },
  {
   "cell_type": "code",
   "execution_count": null,
   "metadata": {},
   "outputs": [],
   "source": [
    "cap_dict = []\n",
    "for i in test_dict:\n",
    "    temp = {}\n",
    "    temp['capability'] = {'name': i, 'mode' : test_dict[i]}\n",
    "    cap_dict.append(temp)\n",
    "print(cap_dict)"
   ]
  },
  {
   "cell_type": "code",
   "execution_count": null,
   "metadata": {},
   "outputs": [],
   "source": [
    "project_permissions_body = {\n",
    "        \"permissions\": {\n",
    "            \"granteeCapabilities\": {\n",
    "                \"user\" : {\n",
    "                    \"id\" : 'pnl0dv6z'\n",
    "                }\n",
    "                \"capability\":\n",
    "                    cap_dict\n",
    "            }\n",
    "        }\n",
    "    }"
   ]
  },
  {
   "cell_type": "code",
   "execution_count": null,
   "metadata": {},
   "outputs": [],
   "source": [
    "type(project_permissions_body)"
   ]
  },
  {
   "cell_type": "code",
   "execution_count": null,
   "metadata": {},
   "outputs": [],
   "source": []
  }
 ],
 "metadata": {
  "kernelspec": {
   "display_name": "Python 3",
   "language": "python",
   "name": "python3"
  },
  "language_info": {
   "codemirror_mode": {
    "name": "ipython",
    "version": 3
   },
   "file_extension": ".py",
   "mimetype": "text/x-python",
   "name": "python",
   "nbconvert_exporter": "python",
   "pygments_lexer": "ipython3",
   "version": "3.8.5"
  }
 },
 "nbformat": 4,
 "nbformat_minor": 4
}
