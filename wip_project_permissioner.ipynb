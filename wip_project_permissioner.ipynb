{
 "cells": [
  {
   "cell_type": "markdown",
   "metadata": {},
   "source": [
    "# iPython notebook to recursively apply permissions to Projects\n",
    "## Importing libraries"
   ]
  },
  {
   "cell_type": "code",
   "execution_count": 1,
   "metadata": {},
   "outputs": [
    {
     "data": {
      "text/plain": [
       "['C:\\\\Users\\\\pnl0dv6z\\\\OneDrive - AholdDelhaize.com\\\\Documents\\\\Python Scripts\\\\Project_permissions_applier\\\\project_permissions.cfg']"
      ]
     },
     "execution_count": 1,
     "metadata": {},
     "output_type": "execute_result"
    }
   ],
   "source": [
    "import os, argparse, keyring, re, configparser, warnings, urllib, requests, webbrowser\n",
    "from datetime import time, datetime\n",
    "from getpass import getpass\n",
    "from pathlib import Path\n",
    "warnings.filterwarnings('ignore')\n",
    "config = configparser.ConfigParser()\n",
    "config.read(r\".\\project_permissions.cfg\")"
   ]
  },
  {
   "cell_type": "markdown",
   "metadata": {},
   "source": [
    "## Functions\n",
    "### Fn to check errors"
   ]
  },
  {
   "cell_type": "code",
   "execution_count": 12,
   "metadata": {},
   "outputs": [],
   "source": [
    "def check_error(request, task):\n",
    "    if task == \"sign_in\":\n",
    "        if request.status_code == 200:\n",
    "            print(\"\\t\\tUser signed in successfully!\")\n",
    "            return 1\n",
    "        elif request.status_code == 404:\n",
    "            print(\"\\t\\tERROR: User not found!!\")\n",
    "            return 0\n",
    "        elif request.status_code == 401:\n",
    "            print(\"\\t\\tERROR: Login error!!\")\n",
    "            return 0\n",
    "        else:\n",
    "            print(\"\\t\\tERROR: Request error check again!!\")\n",
    "            return 0\n",
    "        \n",
    "    elif task == \"sign_out\":\n",
    "        if request.status_code == 204:\n",
    "            print(\"\\t\\tUser signed out successfully!\")\n",
    "            return 1\n",
    "        else:\n",
    "            print(\"\\t\\tERROR: Request error check again!!\")\n",
    "            return 0\n",
    "        \n",
    "    elif task == \"create_users\":\n",
    "        if request.status_code == 201:\n",
    "            print(\"\\t\\tUser created successfully!\")\n",
    "            return 1\n",
    "        elif request.status_code == 404:\n",
    "            print(\"\\t\\tERROR: Site not found!!\")\n",
    "            return 0\n",
    "        elif request.status_code == 409:\n",
    "            print(\"\\t\\tERROR: User exists or license unavailable, check again!!\")\n",
    "            return 0\n",
    "        elif request.status_code == 400:\n",
    "            print(\"\\t\\tERROR: Invalid site role or bad request!!\")\n",
    "            return 0\n",
    "        else:\n",
    "            print(\"\\t\\tERROR: Request error check again!!\")\n",
    "            return 0\n",
    "        \n",
    "    elif task == \"update_users\":\n",
    "        if request.status_code == 200:\n",
    "            print(\"\\t\\tUser information updated successfully!\")\n",
    "            return 1\n",
    "        elif request.status_code == 404:\n",
    "            print(\"\\t\\tERROR: User or Site not found!!\")\n",
    "            return 0\n",
    "        elif request.status_code == 409:\n",
    "            print(\"\\t\\tERROR: User exists or license unavailable, check again!!\")\n",
    "            return 0\n",
    "        elif request.status_code == 400:\n",
    "            print(\"\\t\\tERROR: Invalid site role, email address or bad request!!\")\n",
    "            return 0\n",
    "        elif request.status_code == 403:\n",
    "            print(\"\\t\\tERROR: Licensing update on self or guest account not allowed!!\")\n",
    "            return 0\n",
    "        else:\n",
    "            print(\"\\t\\tERROR: Request error check again!!\")\n",
    "            return 0\n",
    "        \n",
    "    elif task == \"find_group_id\":\n",
    "        if request.status_code == 200:\n",
    "            print(\"\\t\\tGroup found!\")\n",
    "            return 1\n",
    "        elif request.status_code == 404:\n",
    "            print(\"\\t\\tERROR: Site not found!!\")\n",
    "            return 0\n",
    "        else:\n",
    "            print(\"\\t\\tERROR: Request error check again!!\")\n",
    "            return 0\n",
    "        \n",
    "    elif task == \"add_user_group\":\n",
    "        if request.status_code == 200:\n",
    "            print(\"\\t\\tUser added to group successfully!\")\n",
    "            return 1\n",
    "        elif request.status_code == 404:\n",
    "            print(\"\\t\\tERROR: Site or Group not found!!\")\n",
    "            return 0\n",
    "        elif request.status_code == 409:\n",
    "            print(\"\\t\\tERROR: Specified User already in group!!\")\n",
    "            return 0\n",
    "        else:\n",
    "            print(\"\\t\\tERROR: Request error check again!!\")\n",
    "            return 0\n",
    "    \n",
    "    elif task == \"query_projects\":\n",
    "        if request.status_code == 200:\n",
    "            print(\"\\t\\tProject found!\")\n",
    "            return 1\n",
    "        elif request.status_code == 400:\n",
    "            print(\"\\t\\tERROR: Pagination error!!\")\n",
    "            return 0\n",
    "        elif request.status_code == 403:\n",
    "            print(\"\\t\\tERROR: Page not found!!\")\n",
    "            return 0\n",
    "        elif request.status_code == 404:\n",
    "            print(\"\\t\\tERROR: Site not found!!\")\n",
    "            return 0\n",
    "        else:\n",
    "            print(\"\\t\\tERROR: Request error check again!!\")\n",
    "            return 0\n"
   ]
  },
  {
   "cell_type": "markdown",
   "metadata": {},
   "source": [
    "### Fn to sign in to Server"
   ]
  },
  {
   "cell_type": "code",
   "execution_count": 3,
   "metadata": {},
   "outputs": [],
   "source": [
    "def sign_in(username, password, site=\"\"):\n",
    "    body = {\n",
    "        \"credentials\": {\n",
    "            \"name\": username,\n",
    "            \"password\": password,\n",
    "            \"site\": {\n",
    "                \"contentUrl\": site\n",
    "            }\n",
    "        }\n",
    "    }\n",
    "    response = requests.post(\n",
    "        URL + '/auth/signin', \n",
    "        json=body, \n",
    "        verify=False, \n",
    "        headers={'Accept': 'application/json'}\n",
    "    )\n",
    "    \n",
    "    status = check_error(response, \"sign_in\")\n",
    "    if status:\n",
    "        return response.json()['credentials']['site']['id'], response.json()['credentials']['token']\n",
    "    else:\n",
    "        return 0,0"
   ]
  },
  {
   "cell_type": "markdown",
   "metadata": {},
   "source": [
    "### Fn to sign out from Server"
   ]
  },
  {
   "cell_type": "code",
   "execution_count": 4,
   "metadata": {},
   "outputs": [],
   "source": [
    "def sign_out(site_id, token):\n",
    "    response = requests.post(\n",
    "        URL + '/auth/signout', \n",
    "        verify=False, \n",
    "        headers={'Accept': 'application/json',\n",
    "                'X-Tableau-Auth': token}\n",
    "    )\n",
    "    status = check_error(response, \"sign_out\")\n",
    "    return status"
   ]
  },
  {
   "cell_type": "markdown",
   "metadata": {},
   "source": [
    "### Fn to find project ids"
   ]
  },
  {
   "cell_type": "code",
   "execution_count": 73,
   "metadata": {},
   "outputs": [],
   "source": [
    "def query_projects(site_id, token, project_names):\n",
    "    projects = []\n",
    "    if len(project_names) > 0:\n",
    "        for project in project_names:\n",
    "            response = requests.get(\n",
    "                URL + '/sites/{}/projects?filter=name:eq:{}'.format(site_id, urllib.parse.quote_plus(project)), \n",
    "                verify=False, \n",
    "                headers={'Accept': 'application/json',\n",
    "                        'X-Tableau-Auth': token}\n",
    "            )\n",
    "            status = check_error(response, \"query_projects\")\n",
    "            temp = {response.json()['projects']['project'][0]['name']:response.json()['projects']['project'][0]['id']}\n",
    "            projects.append(temp)\n",
    "    else:\n",
    "        response = requests.get(\n",
    "            URL + '/sites/{}/projects'.format(site_id), \n",
    "            verify=False, \n",
    "            headers={'Accept': 'application/json',\n",
    "                    'X-Tableau-Auth': token}\n",
    "        )\n",
    "        status = check_error(response, \"query_projects\")\n",
    "        page_size = int(response.json()['pagination']['pageSize'])\n",
    "        items_available = int(response.json()['pagination']['totalAvailable'])\n",
    "        if items_available%page_size > 0:\n",
    "            num_pages = int(items_available/page_size) + 1\n",
    "        else:\n",
    "            num_pages = int(items_available/page_size)\n",
    "        for page_num in range(num_pages):\n",
    "            response = requests.get(\n",
    "                URL + '/sites/{}/projects?pageSize={}&pageNumber={}'.format(site_id, page_size, int(page_num)+1), \n",
    "                headers={'Accept': 'application/json',\n",
    "                        'X-Tableau-Auth': token}\n",
    "            ).json()\n",
    "            project_names = response['projects']['project']\n",
    "            for project in project_names:\n",
    "                temp = {project['name']:project['id']}\n",
    "                projects.append(temp)\n",
    "    return projects"
   ]
  },
  {
   "cell_type": "markdown",
   "metadata": {},
   "source": [
    "### Fn to apply Project specific permissions"
   ]
  },
  {
   "cell_type": "code",
   "execution_count": null,
   "metadata": {},
   "outputs": [],
   "source": [
    "def apply_project_permissions(site_id, token, user, capabilities):\n",
    "     project_permissions_body = {\n",
    "        \"permissions\": {\n",
    "            \"granteeCapabilities\": {\n",
    "                \"user\" : {\n",
    "                    \"id\" : user\n",
    "                }\n",
    "                \"capabilities\" : {\n",
    "                    \n",
    "                }\n",
    "            } user_name,\n",
    "            \"siteRole\": site_role\n",
    "        }\n",
    "    }"
   ]
  },
  {
   "cell_type": "code",
   "execution_count": null,
   "metadata": {},
   "outputs": [],
   "source": []
  },
  {
   "cell_type": "code",
   "execution_count": null,
   "metadata": {},
   "outputs": [],
   "source": []
  },
  {
   "cell_type": "code",
   "execution_count": null,
   "metadata": {},
   "outputs": [],
   "source": []
  },
  {
   "cell_type": "markdown",
   "metadata": {},
   "source": [
    "## Variables"
   ]
  },
  {
   "cell_type": "code",
   "execution_count": 6,
   "metadata": {},
   "outputs": [],
   "source": [
    "server = config[\"server_connection\"][\"server\"] # Enter site in format tableau.company.com without the https before it\n",
    "site_content_url = config[\"server_connection\"][\"site\"] # This can be found from the URL of the content and if using the Default site then this will be blank\n",
    "api_ver = config[\"server_connection\"][\"api\"] # This can be found from the Tableau Server REST API reference\n",
    "username = \"pnl0dv6z\" # This is your username\n",
    "\n",
    "URL = \"https://{}/api/{}\".format(server, api_ver)"
   ]
  },
  {
   "cell_type": "markdown",
   "metadata": {},
   "source": [
    "## Open Log file"
   ]
  },
  {
   "cell_type": "code",
   "execution_count": 7,
   "metadata": {},
   "outputs": [],
   "source": [
    "log_file_loc = r\"{}\\{}\".format(str(Path.home()), config[\"logging_details\"][\"logfilename\"])\n",
    "log_file = open(log_file_loc, \"a+\")"
   ]
  },
  {
   "cell_type": "markdown",
   "metadata": {},
   "source": [
    "## Sign in to the Tableau Server"
   ]
  },
  {
   "cell_type": "code",
   "execution_count": 9,
   "metadata": {},
   "outputs": [
    {
     "name": "stdin",
     "output_type": "stream",
     "text": [
      "Enter your password for the Tableau Server:  ············\n"
     ]
    },
    {
     "name": "stdout",
     "output_type": "stream",
     "text": [
      "\t\tUser signed in successfully!\n"
     ]
    }
   ],
   "source": [
    "password = getpass(\"Enter your password for the Tableau Server: \")\n",
    "site_id, token = sign_in(username, password, site_content_url)\n",
    "if token == 0:\n",
    "    exit()"
   ]
  },
  {
   "cell_type": "code",
   "execution_count": 74,
   "metadata": {},
   "outputs": [
    {
     "name": "stdout",
     "output_type": "stream",
     "text": [
      "\t\tProject found!\n"
     ]
    }
   ],
   "source": [
    "test = query_projects(site_id, token, [])"
   ]
  },
  {
   "cell_type": "code",
   "execution_count": 76,
   "metadata": {},
   "outputs": [
    {
     "name": "stdout",
     "output_type": "stream",
     "text": [
      "186\n"
     ]
    }
   ],
   "source": [
    "print(len(test))"
   ]
  },
  {
   "cell_type": "code",
   "execution_count": 59,
   "metadata": {},
   "outputs": [
    {
     "name": "stdout",
     "output_type": "stream",
     "text": [
      "{'error': {'summary': 'Bad Request', 'detail': \"Invalid page number '5'\", 'code': '400006'}}\n"
     ]
    }
   ],
   "source": [
    "response = requests.get(\n",
    "    URL + '/sites/{}/projects?pageSize=100&pageNumber=5'.format(site_id), \n",
    "    headers={'Accept': 'application/json',\n",
    "            'X-Tableau-Auth': token}\n",
    ").json()\n",
    "print(response)"
   ]
  },
  {
   "cell_type": "code",
   "execution_count": 63,
   "metadata": {},
   "outputs": [
    {
     "name": "stdout",
     "output_type": "stream",
     "text": [
      "0\n"
     ]
    }
   ],
   "source": [
    "n = 100\n",
    "d = 100\n",
    "print(n%d)"
   ]
  },
  {
   "cell_type": "code",
   "execution_count": 72,
   "metadata": {},
   "outputs": [
    {
     "name": "stdout",
     "output_type": "stream",
     "text": [
      "[{'Default': 'b3ff80a2-4208-11e7-aff1-ebade968559c'}, {'Online Lab': 'f91c5633-0d1c-42a2-86b1-9f5c326fb4b6'}, {'Online Live': 'd989f4e3-22b3-4f78-b54e-ffc70138a784'}, {'Marketing & Format Lab': '08588e4d-5c9b-40dd-bb28-f7a60d9f7059'}, {'Marketing & Format Live': 'dc904b82-90bd-4c62-89e3-bdec72abe0b6'}, {'Shared Live': '2cc5cb90-213d-4b13-a38f-faa03a65d428'}, {'Analytics Lab': 'fafdb345-5fcb-4dff-9f7d-a32e0df73c97'}, {'Merchandising & Sourcing Lab': 'f9bd72f3-a739-4a51-8722-0ba52ff5b921'}, {'Administration': '9cbfc4ab-397d-40fa-9998-db338d9893a6'}, {'Formule Lab': 'acdfb2d0-e69d-4e29-9750-1f6dcca3d21d'}, {'M&S Dashboards': '6f7bff85-880b-418a-83da-9e9e3da27a0f'}, {'Finance Stores Lab': '9b6eda6e-a72a-42ea-9b89-601baf980dad'}, {'AHMS Lab': '3c46aae1-9ae0-48fa-94c2-224da74da089'}, {'AH Store Support Lab': '786a0981-151b-42ad-aceb-79247505b98e'}, {'AH Store Support Live': '1c1f51f7-a04c-4701-8484-2447f877141a'}, {'Online Playground (analist-only)': '9756f3a4-b0f6-421c-89b4-b76f250502b8'}, {'Store Intelligence': '84e7c7cf-7ae0-4c48-8894-51821a0da103'}, {'Merchandising & Sourcing Ballenbak': '92ecb4d3-d700-4b60-83bb-637852b36157'}, {'10 Lenses Pilot Lab': '767a47bb-1fba-431a-a503-e677e5e775cd'}, {'Price and Promotion Lab': '1b678ce0-6bd5-474c-8b79-531045fff813'}, {'MIP': '61fa9fc5-0e17-4247-a056-730b283e6e6a'}, {'Greenbelt Training': '7f39e4eb-c49d-435e-a202-5e8999c22615'}, {'Finance Lab': 'af2774bd-8580-4888-ab29-4b9edf21fbbd'}, {'Finance Gall & Gall Lab': '7c5e791c-b45d-41c3-a0f3-6a3edd724d35'}, {'Finance M&F Lab': '6e175236-49dc-415d-b39d-feb9bba3dd1a'}, {'Finance M&S Lab': '73235482-6830-43d2-9844-44d37e56b801'}, {'Finance Live': '724c6aa6-4756-4e32-bcaa-6804b50bb04b'}, {'Finance Ballenbak': '58680cea-95d4-4cf1-a265-182319f0ebc4'}, {'Finance Gall & Gall Ballenbak': '1039eed9-7ff6-4786-949a-79a43b1db127'}, {'Finance M&F Ballenbak': 'f457498d-0f7a-49b3-ba46-591933a8e3b1'}, {'Finance M&S Ballenbak': 'dca52857-3b83-4c43-9264-e9f67e39e4c0'}, {'Gall & Gall Lab': '7b207b3a-2c29-494a-893c-703ced88d06e'}, {'Gall & Gall Live': '64b975be-5f19-4974-b3a8-7d9cce621907'}, {'Online Operations Lab': '49946a86-7523-4bd1-92b8-b1939256fd4a'}, {'Online Operations Live': 'bc4379b2-493b-4d41-abf7-81df6b6b3bb7'}, {'IT PMO Lab': 'cc49d54d-4579-46f1-887f-0904eb15e923'}, {'IT PMO Live': 'e0bef156-00d2-46c5-99cf-9770ec9c0294'}, {'Panelonderzoeken': '9210c4d9-a0a9-4ae7-b36a-1fb40a4f88f9'}, {'Losse Analyses': '0f0349c5-6977-4481-9600-08c605f17be3'}, {'Cees': '0b64a6c0-286b-4837-9c97-8f1ca5161781'}, {'I&I - Operation': '47a35ec6-8d8f-4cbe-a2cd-5a05b6563225'}, {'I&I - Service en Afrekenen': '2c0ba38b-e158-48d1-b09d-9b39737a0991'}, {'I&I - Vers': 'dac3e874-1f54-47d9-91f6-d152336d3c19'}, {'Remko': 'c833c7be-aad9-465f-a242-a62cf2efb093'}, {'Sales Deepdive': 'f34c6448-388a-44f3-9e38-2d2d1c993c09'}, {'Sales Deepdive': '303b8893-5b0b-4289-a8d9-398bdf76a4e5'}, {'Taskforce Sales Deepdive': '398e1c10-8f55-47c7-99fb-457dfd4c8768'}, {'Tap2Go Pilot Lab': '2c3a5bc6-b2e4-40eb-9dde-54f7cd4ce3ac'}, {'Etos Concept': 'ddf78940-1f90-4252-a294-c497cf12b2aa'}, {'Etos Definitief': 'eb2b61f0-ea4f-4c25-8806-73e170570146'}, {'IT Management Lab': 'efa4c7a8-b422-4b26-8ab1-9f18d1be6264'}, {'Schermen MIR': 'af6768b5-93d7-4443-b509-16483007d902'}, {'Testing - Unit and System': '6bb7460f-98ef-405e-ad4c-8af026797822'}, {'Testing - UAT': '73a457f2-dfe1-4cf2-b677-fc640870681b'}, {'To Go Lab': 'e4278e5c-24f3-42bb-9615-2b76fe8ea135'}, {'Marktaandeel': '7c955981-d265-4384-8094-981f2111887c'}, {'Assortiments optimalisatie - Commerciele & Operationele kenmerken': '0b1f11de-fabf-4bec-a594-44b70c116907'}, {'Online Management Team': '24761394-5ea9-41d6-94de-07ef3aaaeb09'}, {'Archive': '6443c814-293d-46e3-a285-67f4f7f92169'}, {'Customer Support Lab': '82a61e6c-7806-4102-9144-d977ac1deba7'}, {'Customer Support Live': '88d474b2-f101-4a42-ad6d-fcca30787a2a'}, {'Online Internal Audit': '111e49aa-762d-4787-8765-d46f1c480215'}, {'Fact Based Verbeteren': '987f6ec7-2bdd-4b89-af48-2b3c99e55e66'}, {'FireStarters': '7f59b09d-c948-4f12-b56a-4c5bd9f9fd19'}, {'AH Klant Dashboard Lab': '3d65d5da-42dd-4dea-8d9c-0d8ee19ca4b3'}, {'Key Users': 'bb4e861a-11f3-45ae-b5bc-c229c9bf82cd'}, {'Customer KPI': 'ade6e170-fd46-46a9-aa2e-7bb409539080'}, {\"Rob's Project Folder\": 'b0f613df-9db3-4844-9371-762043765d5c'}, {'DMT AH Stores WWM Lab': '6916f7d5-e345-49f1-92a0-1d038df87650'}, {'DMT AH Stores Franchise Lab': 'b94ce6be-b215-4716-853b-64929f1de3fe'}, {'Quality Insurance Lab': '9152cb20-c612-4d93-9984-8b45ed45903c'}, {'Albert Heijn | CONCURRENTIE': 'd17c8c7f-8a0e-4950-94a3-451ede3ea9de'}, {'Kwaliteit': '475796ac-eb94-4ea3-be29-1c35755fc7e1'}, {'Training': '7b03468a-0baf-4fca-b5b8-fd9e84cbcdbc'}, {'Etos Lab': 'fd9b558d-3fb0-4a26-b50b-67c59dc7565a'}, {'Etos Live': 'd1c69298-698f-47e6-b36f-a08f504dfbb2'}, {'IT Reporting (pilot)': '39fb31f3-aba3-43e8-b735-39f06e248ddb'}, {'Online Orders': '87c11b3a-b009-43fe-bdd2-d30679b1cfbf'}, {'AH Stores': '001aab40-e713-4c05-ba85-07075ff25e1c'}, {'Ad Hoc': 'd752d041-f2bb-456d-b3c2-d73aae5d4a8f'}, {'Omzet': '65fb84e9-eac4-4e7f-afb2-e8c73a46091c'}, {'Beschikbaarheid': 'f682a762-12fc-43c6-9ce1-f86a1a88d47b'}, {'Derving': '7c9b38cd-96e2-481a-b50a-b5ac382a34e4'}, {'Loonsom': '7b16a248-29eb-4398-a482-016d3fbcb72a'}, {'Temporary Dashboards': 'c81dac8c-ff99-4727-96d4-3ce2cfe26844'}, {'Diederik': '87f6e6f1-d927-475d-9ed5-f6feab6cb82c'}, {'Roel': 'b86d55a8-ed82-431b-83ee-faf09429050e'}, {'Rosanne': 'c6a368a9-e848-480f-868c-027089393176'}, {'Kevin': '0788b832-b046-4c16-891b-7fc1d73e81da'}, {'Suzanne': '0348383f-47c9-4eb2-a5e6-f60d10c658e7'}, {'Neha': '0b848b1b-c4e5-40d2-9780-61accdb83d21'}, {'Michiel': '601900e9-2089-4c75-ab55-f10fae85bf97'}, {'Job de Wilde': '80d220fa-f713-4d02-b816-3b6870a0a3c2'}, {'S&A Operations Analytics': '07a1d277-efc6-4762-967c-0b2d5b727d0c'}, {'Winkels': 'e8e5f6e6-7e18-4261-bffe-0a59f9b04128'}, {'Real Estate': '748aa9ee-73c5-49b7-84e9-eba83d61b032'}, {'Distributie & Transport': '0c63b3f0-b82d-4c40-9fa9-a0bf0072fdcb'}, {'S&A Data Science': '3d987da6-d986-4049-bbd9-feef3305f9bd'}, {'S&A Commerce Analytics': 'd8b48f66-22be-4f2b-8679-de213a28f944'}, {'S&A Digital Analytics': 'd7bf16ad-3e1b-43e4-af08-be37978de95b'}, {'Portfolio Management': '6628e043-edc6-4397-bb10-22f16ab9f318'}, {'Asset Management & Expansion': '0c70a6c1-2a05-4cbc-9731-47bc3f5295c1'}, {'Customer KPI': '20e72e9d-1dae-40d0-92ed-19cf114cd5a2'}, {'Data sources': '4da287c6-804e-4944-af69-3b3f3860705e'}, {'Ballenbak S&A Operations Analytics': '94d77c4e-d431-4f04-9fd2-9e1baf6d4919'}, {'Finance Stores': '452cd798-b5c7-487c-b421-9ebdeb8f4184'}, {'Internal Communications': '92590157-b679-493d-aad7-b79fdef0010a'}, {'Logistics': '41fd84dc-d162-4c2d-8300-91286253342d'}, {'Replenishment': '75f2fea7-438f-43d4-a047-aca59f0f0a9b'}, {'Transport': '1e5f7b7b-95c2-43b4-afd6-4b0a7dea3f75'}, {'1. Live Dashboards - Transport': '373ce6a2-7bfb-4187-91ea-b166f67d481d'}, {'2. Work in progress - Transport': 'ca3699bc-ab3d-4bb2-8ab4-b7803d82e02e'}, {'3. Datasources - Transport': 'b3d4a844-988c-4215-ae5f-316081e47d15'}, {'1. Live Dashboards - Logistics': '96a504a8-8bf4-4e85-81d1-c44c1fba993e'}, {'2. Work in progress - Logistics': 'c985ad70-aaf1-4419-b4b7-12728e133178'}, {'3. Datasources - Logistics': '059abfd2-8100-470b-889f-117f792c093a'}, {'Markt': '23e27d0f-0170-4399-8695-ff4006b1aef7'}, {'1. Live Dashboards - Replenishment': '1cb84aa2-3474-4c2c-ae67-126b6e98e2dd'}, {'2. Work in progress - Replenishment': 'e4302343-f012-4711-a8b3-31808db4a3d1'}, {'3. Datasources - Replenishment': 'cc899153-a183-47ca-8a0e-f0b17f2c5a6b'}, {'Broodgarantie uit DMT map': '0a7f89ef-7933-4ef8-a7d2-ff9aa02e5a65'}, {'Test tabCMD': 'f94fb4fd-02bf-4669-a273-3f307dea9de3'}, {'Albert Heijn | OMZETANALYSE': 'af3c757a-9780-452a-8be7-0aeb83e8e993'}, {'E-commerce dashboard': '3ad92057-97ab-4f31-b7dd-3a242b7f6aab'}, {'Archief': '9b0a6688-9d76-4b72-80a6-cc270d175e3b'}, {'Archief': '6fc11094-cdfa-4cdf-b134-427d5f2fc7ea'}, {'Bereiksmodel (Oude versies)': '770777a1-ea0d-47a1-95a4-262a7d745a8f'}, {'Online demand forecasting': 'fae54398-0c0b-4db6-883d-319c39adee92'}, {'Klant': 'afb37157-bf42-4529-9fbe-3582b913fd6e'}, {'Databricks Data Sources': '41032105-458d-4196-8af4-1668f2d628ab'}, {'CA Data sources': '53c99286-aa41-4477-9aba-1d1f59478d67'}, {'Worpanalyse': '6aae79fc-abe7-4d70-89b9-83e0ef94422e'}, {'AH Belgium E-Commerce Lab': '9ef0a6d5-17bf-43f4-a02a-5ea9f89fecde'}, {'AR and AP dashboards': 'f9ff83ef-3cc6-4057-813b-86117e00ebb3'}, {'Data': '13aa85b2-4aa4-4e25-8a82-3fbb69567dc6'}, {'Coronabesturing': '954e31aa-b0a7-4e50-9b6b-f4f24dba523b'}, {'Data Sources Corona': '4004cccb-7abe-45be-9698-0b9d7b66652b'}, {'Coronabesturing Finance': '4660d91b-d2c6-4617-99ab-bcb0b35e29bb'}, {'Dashboard Regieteam': 'aacaa511-f097-4347-8d92-40cc139527d4'}, {'DashboardSupplyChain': 'fcc0e49e-0f2f-4040-9677-d69d86a73884'}, {'Data Sources': '9f7ce306-7690-4747-93ca-2deb11cc0b61'}, {'Online (one-off analysis)': '70e33d5f-9643-465b-8fe3-5a8ffe1ea5f6'}, {'Albert Heijn NL | DISTRICTSPRESENTATIE': '0e6249aa-e8cc-482d-8f31-c3151bf8cb8a'}, {'Albert Heijn NL | INWONERGROEI': '6d5e2f8b-990e-4fe9-937e-713e6b4e372f'}, {'Albert Heijn NL | MARKTAANDELEN': '8423d1c0-25ce-45b6-9d1d-d0918fd42f87'}, {'Benchmark': '68c2ace2-bc6b-4ea2-8603-a3ad6d877df1'}, {'Archief': '42681743-2e5e-4e50-b927-20ae9420e234'}, {'Archief': '040d96ba-9954-4d75-a290-fb40356ee08c'}, {'Archief': 'dc18a95d-071f-42fc-8f75-a53422afce1e'}, {'Old versions': 'a168091a-d4c5-4aa2-9068-47d2501c187e'}, {'Online DELTA UAT': '81b25df5-ada0-4ebf-bd69-b2c0e5d18410'}, {'Merchandising & Sourcing Live': 'a6c82dfb-c463-488c-84fb-3fd45a99b341'}, {'Data Accuracy Dashboards': 'c4904c9a-6371-48d6-a5df-173d2eb3dbd5'}, {'Archief': '92e87976-5bce-4de0-9940-e6032e7e0bae'}, {'NPS (TEST)': 'a8a59381-d5a5-498d-8263-e9fdf87683af'}, {'Online Beschikbaarheid': '8abc38cc-4550-45d6-9a73-88c275b2d27e'}, {'Finance D&T Lab': '902a8fbb-b72a-4d1e-b8f2-f8bb50547f69'}, {'Factsheet': '0a9d51dd-45b5-41d7-b100-0242db18b098'}, {'Etos Customer Data and Retention Lab': '815ff269-ed18-4c0b-b424-9cd5a02d6730'}, {'SS_PromoDemandForecast': '9d357eb7-a6fa-4d5d-b0d2-3375799fa4fb'}, {'ss_data': '4f29fb5a-d20e-4519-a662-39801e833198'}, {'Promo Demand Forecast': '45bb782d-d027-44b0-99e4-4a9c1378f858'}, {'PDF-Data': '09c93560-6db5-4259-b52d-2018a905897d'}, {'AH Security': 'f03e1a23-7bac-4d8b-aac2-09eaca416551'}, {'Archief': 'fa078ff2-1bdb-445d-bcb1-3ea56c64268a'}, {'Shared Lab': 'f7e6f57b-3e0c-43a5-9136-aad9ad37882b'}, {'DWH': '4c72c81f-047f-46df-ae99-f5d68537ff70'}, {'Geo lab': 'caf16e0c-e143-4de3-9cf0-c351e5ee3ef7'}, {'Zelfscan': '800b6f12-06bc-4b29-bbc8-73d1b946b91e'}, {'Archief': '42464ddb-34bd-4051-af79-8e507544e623'}, {'Beschikbaarheid': '4d5126ed-ed39-4b1b-85a2-688e0d3f7413'}, {'Klant': 'e6b9473d-d965-4404-99bb-e9f807aa382f'}, {'Markt': 'd33afd07-bc70-400f-87ba-9e84c82dfc01'}, {'Ad hoc': '68d41a1a-ef9a-4d32-9f66-fc0de10c51c5'}, {'Omzet': 'fea94cd0-6ce0-41fb-b378-db14c87cecb9'}, {'Derving': 'a0b8de0a-6ece-4c8d-a346-f7811a82c6c0'}, {'LOSSE PROJECTEN': 'ff35ad3b-a161-434b-ac15-009d7bf0e384'}, {'Albert Heijn NL | LOCATIESCAN': 'c0ce2ce4-9713-4351-835f-53b53efeb2e7'}, {'ETOS': '28f72a61-0f41-49da-8b6e-6afc6bbf34b9'}, {'GALL & GALL': '3c75af1b-9466-460f-8ffc-1966b210d6c4'}, {'AH Klant Dashboard Live': 'c1fdab8a-6a52-4a16-a9f5-773a8b0d8efe'}, {'Dynamic Markdown': 'd0ecc908-24a6-4628-a621-f46c564d75b2'}, {'Archief': '5a209316-3a7d-4656-96b3-2fed3172468b'}, {'Kies en Activeer': '8acf3f6e-9851-4184-9184-ccbadcf2a395'}, {'Jowita': 'db440141-4281-4915-85a6-7a189406f5e1'}, {'OBK': '7a140ac4-277d-43d0-87c5-4b89e309ef70'}]\n"
     ]
    }
   ],
   "source": [
    "print(test)"
   ]
  },
  {
   "cell_type": "code",
   "execution_count": 77,
   "metadata": {},
   "outputs": [
    {
     "data": {
      "text/plain": [
       "'analytics_service'"
      ]
     },
     "execution_count": 77,
     "metadata": {},
     "output_type": "execute_result"
    }
   ],
   "source": [
    "urllib.parse.quote_plus('analytics_service')"
   ]
  },
  {
   "cell_type": "code",
   "execution_count": 1,
   "metadata": {},
   "outputs": [],
   "source": [
    "test_dict = {'write':'allow', 'read':'allow'}"
   ]
  },
  {
   "cell_type": "code",
   "execution_count": 9,
   "metadata": {},
   "outputs": [
    {
     "name": "stdout",
     "output_type": "stream",
     "text": [
      "[{'capability': {'name': 'write', 'mode': 'allow'}}, {'capability': {'name': 'read', 'mode': 'allow'}}]\n"
     ]
    }
   ],
   "source": [
    "cap_dict = []\n",
    "for i in test_dict:\n",
    "    temp = {}\n",
    "    temp['capability'] = {'name': i, 'mode' : test_dict[i]}\n",
    "    cap_dict.append(temp)\n",
    "print(cap_dict)"
   ]
  },
  {
   "cell_type": "code",
   "execution_count": 20,
   "metadata": {},
   "outputs": [
    {
     "ename": "SyntaxError",
     "evalue": "invalid syntax (<ipython-input-20-d9496f82b494>, line 7)",
     "output_type": "error",
     "traceback": [
      "\u001b[1;36m  File \u001b[1;32m\"<ipython-input-20-d9496f82b494>\"\u001b[1;36m, line \u001b[1;32m7\u001b[0m\n\u001b[1;33m    \"capability\":\u001b[0m\n\u001b[1;37m    ^\u001b[0m\n\u001b[1;31mSyntaxError\u001b[0m\u001b[1;31m:\u001b[0m invalid syntax\n"
     ]
    }
   ],
   "source": [
    "project_permissions_body = {\n",
    "        \"permissions\": {\n",
    "            \"granteeCapabilities\": {\n",
    "                \"user\" : {\n",
    "                    \"id\" : 'pnl0dv6z'\n",
    "                }\n",
    "                \"capability\":\n",
    "                    cap_dict\n",
    "            }\n",
    "        }\n",
    "    }"
   ]
  },
  {
   "cell_type": "code",
   "execution_count": 16,
   "metadata": {},
   "outputs": [
    {
     "data": {
      "text/plain": [
       "dict"
      ]
     },
     "execution_count": 16,
     "metadata": {},
     "output_type": "execute_result"
    }
   ],
   "source": [
    "type(project_permissions_body)"
   ]
  },
  {
   "cell_type": "code",
   "execution_count": null,
   "metadata": {},
   "outputs": [],
   "source": []
  }
 ],
 "metadata": {
  "kernelspec": {
   "display_name": "Python 3",
   "language": "python",
   "name": "python3"
  },
  "language_info": {
   "codemirror_mode": {
    "name": "ipython",
    "version": 3
   },
   "file_extension": ".py",
   "mimetype": "text/x-python",
   "name": "python",
   "nbconvert_exporter": "python",
   "pygments_lexer": "ipython3",
   "version": "3.8.5"
  }
 },
 "nbformat": 4,
 "nbformat_minor": 4
}
